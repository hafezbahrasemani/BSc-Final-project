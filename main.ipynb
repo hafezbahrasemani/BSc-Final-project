{
 "cells": [
  {
   "cell_type": "code",
   "execution_count": 1,
   "metadata": {
    "collapsed": true,
    "pycharm": {
     "name": "#%%\n"
    }
   },
   "outputs": [
    {
     "name": "stderr",
     "output_type": "stream",
     "text": [
      "2021-10-11 09:21:06.268708: W tensorflow/stream_executor/platform/default/dso_loader.cc:64] Could not load dynamic library 'libcudart.so.11.0'; dlerror: libcudart.so.11.0: cannot open shared object file: No such file or directory\n",
      "2021-10-11 09:21:06.268730: I tensorflow/stream_executor/cuda/cudart_stub.cc:29] Ignore above cudart dlerror if you do not have a GPU set up on your machine.\n"
     ]
    },
    {
     "name": "stdout",
     "output_type": "stream",
     "text": [
      "tensorflow version:  2.6.0\n"
     ]
    }
   ],
   "source": [
    "import tensorflow as tf\n",
    "import tensorflow_datasets as tfds\n",
    "print(\"tensorflow version: \", tf.__version__)\n",
    "\n",
    "# Name of dataset in tensorflow datasets\n",
    "DATASET_NAME=\"rock_you\""
   ]
  },
  {
   "cell_type": "markdown",
   "source": [
    "Load RockYou Data"
   ],
   "metadata": {
    "collapsed": false
   }
  },
  {
   "cell_type": "code",
   "execution_count": 2,
   "outputs": [
    {
     "name": "stderr",
     "output_type": "stream",
     "text": [
      "2021-10-11 09:21:08.355869: W tensorflow/stream_executor/platform/default/dso_loader.cc:64] Could not load dynamic library 'libcuda.so.1'; dlerror: libcuda.so.1: cannot open shared object file: No such file or directory\n",
      "2021-10-11 09:21:08.355905: W tensorflow/stream_executor/cuda/cuda_driver.cc:269] failed call to cuInit: UNKNOWN ERROR (303)\n",
      "2021-10-11 09:21:08.355925: I tensorflow/stream_executor/cuda/cuda_diagnostics.cc:156] kernel driver does not appear to be running on this host (hafez-HP-EliteDesk-800-G1-SFF): /proc/driver/nvidia/version does not exist\n",
      "2021-10-11 09:21:08.356964: I tensorflow/core/platform/cpu_feature_guard.cc:142] This TensorFlow binary is optimized with oneAPI Deep Neural Network Library (oneDNN) to use the following CPU instructions in performance-critical operations:  AVX2 FMA\n",
      "To enable them in other operations, rebuild TensorFlow with the appropriate compiler flags.\n"
     ]
    }
   ],
   "source": [
    "dataset, dataset_info = tfds.load(name=DATASET_NAME,\n",
    "                                  split='train[:75%]',\n",
    "                                  with_info=True)"
   ],
   "metadata": {
    "collapsed": false,
    "pycharm": {
     "name": "#%%\n"
    }
   }
  },
  {
   "cell_type": "code",
   "execution_count": 3,
   "outputs": [
    {
     "name": "stdout",
     "output_type": "stream",
     "text": [
      "tfds.core.DatasetInfo(\n",
      "    name='rock_you',\n",
      "    full_name='rock_you/1.0.0',\n",
      "    description=\"\"\"\n",
      "    This dataset contains 14,344,391 passwords that were leaked or stolen from\n",
      "    various sites. The author of this dataset states that \"I'm hosting them because\n",
      "    it seems like nobody else does (hopefully it isn't because hosting them is\n",
      "    illegal :)). Naturally, I'm not the one who stole these; I simply found them\n",
      "    online, removed any names/email addresses/etc.\".\n",
      "    \n",
      "    This dataset is used to train Machine Learning models for password guessing\n",
      "    and cracking.\n",
      "    \"\"\",\n",
      "    homepage='https://wiki.skullsecurity.org/Passwords',\n",
      "    data_path='/home/hafez/tensorflow_datasets/rock_you/1.0.0',\n",
      "    download_size=133.44 MiB,\n",
      "    dataset_size=393.36 MiB,\n",
      "    features=FeaturesDict({\n",
      "        'password': Text(shape=(), dtype=tf.string),\n",
      "    }),\n",
      "    supervised_keys=None,\n",
      "    disable_shuffling=False,\n",
      "    splits={\n",
      "        'train': <SplitInfo num_examples=14344391, num_shards=8>,\n",
      "    },\n",
      "    citation=\"\"\"\"\"\",\n",
      ")\n"
     ]
    }
   ],
   "source": [
    "print(dataset_info)\n",
    "dataset = dataset.shuffle(100000, reshuffle_each_iteration=True)\n",
    "\n",
    "# Cache dataset for future use\n",
    "dataset = dataset.cache()\n"
   ],
   "metadata": {
    "collapsed": false,
    "pycharm": {
     "name": "#%%\n"
    }
   }
  },
  {
   "cell_type": "markdown",
   "source": [
    "Build Networks models based on the architecture in the paper\n"
   ],
   "metadata": {
    "collapsed": false
   }
  },
  {
   "cell_type": "code",
   "execution_count": 4,
   "outputs": [],
   "source": [
    "# create a class Residual block based on Residual Networks definition\n",
    "class ResidualBlock(tf.keras.Model):\n",
    "    def __init__(self, dim):\n",
    "        super().__init__()\n",
    "        self.res_block = tf.keras.Sequential([\n",
    "            tf.keras.layers.ReLU(True),\n",
    "            tf.keras.layers.Conv1D(dim, dim, 5, padding='same'),\n",
    "            tf.keras.layers.ReLU(True),\n",
    "            tf.keras.layers.Conv1D(dim, dim, 5, padding='same'),\n",
    "        ])\n",
    "\n",
    "    def call(self, input_data, **kwargs):\n",
    "        output = self.res_block(input_data)\n",
    "        return input_data + (0.3 * output)\n",
    "\n",
    "# create a class Generator Network\n",
    "class GeneratorNetwork(tf.keras.Model):\n",
    "    def __init__(self, dim, pass_length):\n",
    "        self.dim = dim\n",
    "        self.pass_length = pass_length\n",
    "\n",
    "        # instantiate a Sequential Model\n",
    "        self.generator_res_block_model = tf.keras.models.Sequential()\n",
    "\n",
    "        # first linear layer\n",
    "        self.first_linear_layer = tf.keras.layers.Dense(128, activation='linear',\n",
    "                                                        input_shape=(dim*pass_length, ))\n",
    "\n",
    "        # residual blocks in a sequential order\n",
    "        self.generator_res_block_model.add(ResidualBlock(dim=5))\n",
    "        self.generator_res_block_model.add(ResidualBlock(dim=5))\n",
    "        self.generator_res_block_model.add(ResidualBlock(dim=5))\n",
    "        self.generator_res_block_model.add(ResidualBlock(dim=5))\n",
    "        self.generator_res_block_model.add(ResidualBlock(dim=5))\n",
    "\n",
    "        # convolutional 1D layer\n",
    "        self.conv_1d_layer = tf.keras.layers.Conv1D(64, 32, 1, padding='valid')\n",
    "\n",
    "        # last soft max layer\n",
    "        self.softmax_layer = tf.keras.layers.Softmax(axis=1)\n",
    "\n",
    "    def call(self, input_noise, **kwargs):\n",
    "        \"\"\"\n",
    "\n",
    "        :param input_noise: noise input of some sample generated passwords\n",
    "        :param kwargs:\n",
    "        :return: the generated passwords for an iteration\n",
    "        \"\"\"\n",
    "\n",
    "        # feed first layer with noise data\n",
    "        output = self.first_linear_layer(input_noise)\n",
    "\n",
    "        # reshape the result of linear layer\n",
    "        output = tf.reshape(output, (-1, 2, 128))\n",
    "\n",
    "        # feed residual blocks by output from reshape stage\n",
    "        output = self.generator_res_block_model(output)\n",
    "        output = tf.reshape(output, (1, 32, 8))\n",
    "\n",
    "        # feed resulted data to convolutional layer\n",
    "        output = self.conv_1d_layer(output)\n",
    "\n",
    "        # transpose operation on the resulted output\n",
    "        output = tf.transpose(output)\n",
    "\n",
    "        # feed softmax layer with transposed output\n",
    "        output = self.softmax_layer(output)\n",
    "        output = tf.reshape(output, [2, 1, 32])\n",
    "\n",
    "        return output\n",
    "\n",
    "# create discriminator network\n",
    "class DiscriminatorNetwork(tf.keras.Model):\n",
    "    def __init__(self, dim, pass_length):\n",
    "        self.dim = dim\n",
    "        self.pass_length = pass_length\n",
    "\n",
    "        self.block = tf.keras.Sequential([\n",
    "            ResidualBlock(dim),\n",
    "            ResidualBlock(dim),\n",
    "            ResidualBlock(dim),\n",
    "            ResidualBlock(dim),\n",
    "            ResidualBlock(dim),\n",
    "        ])\n",
    "        self.conv1d = tf.keras.layers.Conv1D(dim, 32, 1, padding='valid')\n",
    "        self.linear = tf.keras.layers.Dense(pass_length * dim, activation='linear')\n",
    "\n",
    "    def call(self, input_data, **kwargs):\n",
    "        output = tf.transpose(input_data, [0, 2, 1])\n",
    "        output = self.conv1d(output)\n",
    "        output = self.block(output)\n",
    "        output = tf.reshape(output, (-1, 64, 4))\n",
    "        output = self.linear(output)\n",
    "        return output"
   ],
   "metadata": {
    "collapsed": false,
    "pycharm": {
     "name": "#%%\n"
    }
   }
  },
  {
   "cell_type": "code",
   "execution_count": null,
   "outputs": [],
   "source": [],
   "metadata": {
    "collapsed": false,
    "pycharm": {
     "name": "#%%\n"
    }
   }
  }
 ],
 "metadata": {
  "kernelspec": {
   "name": "pycharm-949d0fdc",
   "language": "python",
   "display_name": "PyCharm (BSc-Final-project)"
  },
  "language_info": {
   "codemirror_mode": {
    "name": "ipython",
    "version": 2
   },
   "file_extension": ".py",
   "mimetype": "text/x-python",
   "name": "python",
   "nbconvert_exporter": "python",
   "pygments_lexer": "ipython2",
   "version": "2.7.6"
  }
 },
 "nbformat": 4,
 "nbformat_minor": 0
}